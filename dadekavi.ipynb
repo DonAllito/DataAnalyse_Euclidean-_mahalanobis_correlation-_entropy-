{
 "cells": [
  {
   "cell_type": "markdown",
   "metadata": {
    "scrolled": true,
    "slideshow": {
     "slide_type": "-"
    }
   },
   "source": [
    "# فراخوانی دیتا از دیتا ست و نمایش چند سطر ابتدایی"
   ]
  },
  {
   "cell_type": "code",
   "execution_count": 6,
   "metadata": {},
   "outputs": [
    {
     "data": {
      "text/html": [
       "<div>\n",
       "<style scoped>\n",
       "    .dataframe tbody tr th:only-of-type {\n",
       "        vertical-align: middle;\n",
       "    }\n",
       "\n",
       "    .dataframe tbody tr th {\n",
       "        vertical-align: top;\n",
       "    }\n",
       "\n",
       "    .dataframe thead th {\n",
       "        text-align: right;\n",
       "    }\n",
       "</style>\n",
       "<table border=\"1\" class=\"dataframe\">\n",
       "  <thead>\n",
       "    <tr style=\"text-align: right;\">\n",
       "      <th></th>\n",
       "      <th>0</th>\n",
       "      <th>1</th>\n",
       "      <th>2</th>\n",
       "      <th>3</th>\n",
       "      <th>4</th>\n",
       "      <th>5</th>\n",
       "      <th>6</th>\n",
       "      <th>7</th>\n",
       "      <th>8</th>\n",
       "      <th>9</th>\n",
       "      <th>10</th>\n",
       "    </tr>\n",
       "  </thead>\n",
       "  <tbody>\n",
       "    <tr>\n",
       "      <th>0</th>\n",
       "      <td>7</td>\n",
       "      <td>5</td>\n",
       "      <td>86.2</td>\n",
       "      <td>26.2</td>\n",
       "      <td>94.3</td>\n",
       "      <td>5.1</td>\n",
       "      <td>8.2</td>\n",
       "      <td>51</td>\n",
       "      <td>6.7</td>\n",
       "      <td>0.0</td>\n",
       "      <td>0.0</td>\n",
       "    </tr>\n",
       "    <tr>\n",
       "      <th>1</th>\n",
       "      <td>7</td>\n",
       "      <td>4</td>\n",
       "      <td>90.6</td>\n",
       "      <td>35.4</td>\n",
       "      <td>669.1</td>\n",
       "      <td>6.7</td>\n",
       "      <td>18.0</td>\n",
       "      <td>33</td>\n",
       "      <td>0.9</td>\n",
       "      <td>0.0</td>\n",
       "      <td>0.0</td>\n",
       "    </tr>\n",
       "    <tr>\n",
       "      <th>2</th>\n",
       "      <td>7</td>\n",
       "      <td>4</td>\n",
       "      <td>90.6</td>\n",
       "      <td>43.7</td>\n",
       "      <td>686.9</td>\n",
       "      <td>6.7</td>\n",
       "      <td>14.6</td>\n",
       "      <td>33</td>\n",
       "      <td>1.3</td>\n",
       "      <td>0.0</td>\n",
       "      <td>0.0</td>\n",
       "    </tr>\n",
       "    <tr>\n",
       "      <th>3</th>\n",
       "      <td>8</td>\n",
       "      <td>6</td>\n",
       "      <td>91.7</td>\n",
       "      <td>33.3</td>\n",
       "      <td>77.5</td>\n",
       "      <td>9.0</td>\n",
       "      <td>8.3</td>\n",
       "      <td>97</td>\n",
       "      <td>4.0</td>\n",
       "      <td>0.2</td>\n",
       "      <td>0.0</td>\n",
       "    </tr>\n",
       "    <tr>\n",
       "      <th>4</th>\n",
       "      <td>8</td>\n",
       "      <td>6</td>\n",
       "      <td>89.3</td>\n",
       "      <td>51.3</td>\n",
       "      <td>102.2</td>\n",
       "      <td>9.6</td>\n",
       "      <td>11.4</td>\n",
       "      <td>99</td>\n",
       "      <td>1.8</td>\n",
       "      <td>0.0</td>\n",
       "      <td>0.0</td>\n",
       "    </tr>\n",
       "  </tbody>\n",
       "</table>\n",
       "</div>"
      ],
      "text/plain": [
       "   0   1     2     3      4    5     6   7    8    9    10\n",
       "0   7   5  86.2  26.2   94.3  5.1   8.2  51  6.7  0.0  0.0\n",
       "1   7   4  90.6  35.4  669.1  6.7  18.0  33  0.9  0.0  0.0\n",
       "2   7   4  90.6  43.7  686.9  6.7  14.6  33  1.3  0.0  0.0\n",
       "3   8   6  91.7  33.3   77.5  9.0   8.3  97  4.0  0.2  0.0\n",
       "4   8   6  89.3  51.3  102.2  9.6  11.4  99  1.8  0.0  0.0"
      ]
     },
     "execution_count": 6,
     "metadata": {},
     "output_type": "execute_result"
    }
   ],
   "source": [
    "import numpy as np\n",
    "import pandas as pd\n",
    "import math\n",
    "data = pd.read_excel('./dataset2.xls', header=None,)\n",
    "data.head()"
   ]
  },
  {
   "cell_type": "markdown",
   "metadata": {
    "slideshow": {
     "slide_type": "notes"
    }
   },
   "source": [
    "# محاسبه فاصله اقلیدسی"
   ]
  },
  {
   "cell_type": "markdown",
   "metadata": {},
   "source": [
    "با وارد کردن دو ستون دلخواه از بین اعداد 0 تا 11 فاصله اقلیدسی داده های موحود در این دو ستون با هم محاسبه میشود "
   ]
  },
  {
   "cell_type": "code",
   "execution_count": 7,
   "metadata": {},
   "outputs": [
    {
     "name": "stdout",
     "output_type": "stream",
     "text": [
      "Euclidean distance from cols (0 to 1):  45.044422518220834\n",
      "enter target_col 1(0,11) x :2\n",
      "enter target_col 2(0,11) y :3\n",
      "Euclidean distance from x to y:  1484.676446233319\n"
     ]
    }
   ],
   "source": [
    "a = data[0]\n",
    "b = data[1]\n",
    "# c = daat[3]\n",
    "# d = daat[4]\n",
    "# e = daat[5]\n",
    "# f = daat[6]\n",
    "# g = daat[7]\n",
    "# h = daat[8]\n",
    "# i = daat[9]\n",
    "# j = daat[10]\n",
    "# k = daat[11]\n",
    "# f=[(a - b) ** 2)+((b - c) ** 2)+(c - d) ** 2)+(d - e) ** 2)+(e - f) ** 2)+(f - g) ** 2)+(g - h) ** 2)+(h - i) ** 2)+(i - j) ** 2)+(j - k) ** 2)]\n",
    "# f\n",
    "\n",
    "dist = math.sqrt(sum([(a - b) ** 2 for a, b in zip(a, b)]))\n",
    "print(\"Euclidean distance from cols (0 to 1): \",dist)\n",
    "\n",
    "x = int(input(\"enter target_col 1(0,11) x :\"))\n",
    "y = int(input(\"enter target_col 2(0,11) y :\"))\n",
    "\n",
    "x = data[x]\n",
    "y = data[y]\n",
    "distance = math.sqrt(sum([(a - b) ** 2 for a, b   in zip(x, y)]))\n",
    "print(\"Euclidean distance from x to y: \",distance)\n",
    "\n",
    "\n"
   ]
  },
  {
   "cell_type": "markdown",
   "metadata": {},
   "source": [
    "نمایش ماتریس فاصله اقلیدسی برای تمامی حالات دیتاست"
   ]
  },
  {
   "cell_type": "code",
   "execution_count": 21,
   "metadata": {},
   "outputs": [
    {
     "data": {
      "text/plain": [
       "matrix([[    0.        ,    45.04442252,  1959.67115354,  2821.00379298,\n",
       "         13579.23678857,   152.36692554,   354.13510134,   973.83109418,\n",
       "            67.5124433 ,   118.01965938,  1455.53075553],\n",
       "        [   45.04442252,     0.        ,  1967.55925705,  2826.42682552,\n",
       "         13586.10523145,   152.23757749,   358.32843873,   981.63231406,\n",
       "            50.24271091,   101.3688315 ,  1458.00938279],\n",
       "        [ 1959.67115354,  1967.55925705,     0.        ,  1484.67644623,\n",
       "         11807.46400757,  1859.3157478 ,  1637.31608433,  1136.69970969,\n",
       "          1974.17531136,  2064.35259343,  2284.98286652],\n",
       "        [ 2821.00379298,  2826.42682552,  1484.67644623,     0.        ,\n",
       "         11020.24710522,  2720.02034551,  2515.5645271 ,  2113.40966213,\n",
       "          2834.3977826 ,  2909.98616492,  2977.94604187],\n",
       "        [13579.23678857, 13586.10523145, 11807.46400757, 11020.24710522,\n",
       "             0.        , 13477.76404824, 13256.63626302, 12774.93674192,\n",
       "         13594.23677703, 13673.37761784, 13456.1788982 ],\n",
       "        [  152.36692554,   152.23757749,  1859.3157478 ,  2720.02034551,\n",
       "         13477.76404824,     0.        ,   260.17526785,   895.15332765,\n",
       "           156.29724886,   229.24877317,  1451.44231656],\n",
       "        [  354.13510134,   358.32843873,  1637.31608433,  2515.5645271 ,\n",
       "         13256.63626302,   260.17526785,     0.        ,   734.76477188,\n",
       "           368.55694268,   448.73483261,  1445.61830104],\n",
       "        [  973.83109418,   981.63231406,  1136.69970969,  2113.40966213,\n",
       "         12774.93674192,   895.15332765,   734.76477188,     0.        ,\n",
       "           987.614363  ,  1072.38670264,  1679.36788117],\n",
       "        [   67.5124433 ,    50.24271091,  1974.17531136,  2834.3977826 ,\n",
       "         13594.23677703,   156.29724886,   368.55694268,   987.614363  ,\n",
       "             0.        ,    99.61591238,  1459.9240947 ],\n",
       "        [  118.01965938,   101.3688315 ,  2064.35259343,  2909.98616492,\n",
       "         13673.37761784,   229.24877317,   448.73483261,  1072.38670264,\n",
       "            99.61591238,     0.        ,  1475.16027885],\n",
       "        [ 1455.53075553,  1458.00938279,  2284.98286652,  2977.94604187,\n",
       "         13456.1788982 ,  1451.44231656,  1445.61830104,  1679.36788117,\n",
       "          1459.9240947 ,  1475.16027885,     0.        ]])"
      ]
     },
     "execution_count": 21,
     "metadata": {},
     "output_type": "execute_result"
    }
   ],
   "source": [
    "rows,cols = data.shape\n",
    "X = [[ 0 for row in range(cols)] for column in range(cols)]\n",
    "\n",
    "for i in range(cols):\n",
    "    for j in range(cols):\n",
    "        dist = math.sqrt(sum([(a - b) ** 2 for a, b in zip(data[i], data[j])]))\n",
    "        X[i][j] = float(dist)\n",
    "np.matrix(X)\n",
    "\n",
    "        "
   ]
  },
  {
   "cell_type": "code",
   "execution_count": 22,
   "metadata": {},
   "outputs": [
    {
     "data": {
      "text/plain": [
       "array([[0.00000000e+00, 2.02900000e+03, 3.84031103e+06, 7.95806240e+06,\n",
       "        1.84395672e+08, 2.32156800e+04, 1.25411670e+05, 9.48347000e+05,\n",
       "        4.55793000e+03, 1.39286400e+04, 2.11856978e+06],\n",
       "       [2.02900000e+03, 0.00000000e+00, 3.87128943e+06, 7.98868860e+06,\n",
       "        1.84582255e+08, 2.31762800e+04, 1.28399270e+05, 9.63602000e+05,\n",
       "        2.52433000e+03, 1.02756400e+04, 2.12579136e+06],\n",
       "       [3.84031103e+06, 3.87128943e+06, 0.00000000e+00, 2.20426415e+06,\n",
       "        1.39416206e+08, 3.45705505e+06, 2.68080396e+06, 1.29208623e+06,\n",
       "        3.89736816e+06, 4.26155163e+06, 5.22114670e+06],\n",
       "       [7.95806240e+06, 7.98868860e+06, 2.20426415e+06, 0.00000000e+00,\n",
       "        1.21445846e+08, 7.39851068e+06, 6.32806489e+06, 4.46650040e+06,\n",
       "        8.03381079e+06, 8.46801948e+06, 8.86816263e+06],\n",
       "       [1.84395672e+08, 1.84582255e+08, 1.39416206e+08, 1.21445846e+08,\n",
       "        0.00000000e+00, 1.81650124e+08, 1.75738405e+08, 1.63199009e+08,\n",
       "        1.84803274e+08, 1.86961255e+08, 1.81068751e+08],\n",
       "       [2.32156800e+04, 2.31762800e+04, 3.45705505e+06, 7.39851068e+06,\n",
       "        1.81650124e+08, 0.00000000e+00, 6.76911700e+04, 8.01299480e+05,\n",
       "        2.44288300e+04, 5.25550000e+04, 2.10668480e+06],\n",
       "       [1.25411670e+05, 1.28399270e+05, 2.68080396e+06, 6.32806489e+06,\n",
       "        1.75738405e+08, 6.76911700e+04, 0.00000000e+00, 5.39879270e+05,\n",
       "        1.35834220e+05, 2.01362950e+05, 2.08981227e+06],\n",
       "       [9.48347000e+05, 9.63602000e+05, 1.29208623e+06, 4.46650040e+06,\n",
       "        1.63199009e+08, 8.01299480e+05, 5.39879270e+05, 0.00000000e+00,\n",
       "        9.75382130e+05, 1.15001324e+06, 2.82027648e+06],\n",
       "       [4.55793000e+03, 2.52433000e+03, 3.89736816e+06, 8.03381079e+06,\n",
       "        1.84803274e+08, 2.44288300e+04, 1.35834220e+05, 9.75382130e+05,\n",
       "        0.00000000e+00, 9.92333000e+03, 2.13137836e+06],\n",
       "       [1.39286400e+04, 1.02756400e+04, 4.26155163e+06, 8.46801948e+06,\n",
       "        1.86961255e+08, 5.25550000e+04, 2.01362950e+05, 1.15001324e+06,\n",
       "        9.92333000e+03, 0.00000000e+00, 2.17609785e+06],\n",
       "       [2.11856978e+06, 2.12579136e+06, 5.22114670e+06, 8.86816263e+06,\n",
       "        1.81068751e+08, 2.10668480e+06, 2.08981227e+06, 2.82027648e+06,\n",
       "        2.13137836e+06, 2.17609785e+06, 0.00000000e+00]])"
      ]
     },
     "execution_count": 22,
     "metadata": {},
     "output_type": "execute_result"
    }
   ],
   "source": [
    "from numpy import linalg as LA\n",
    "def compute_ED_method1(data):\n",
    "    m,n = data.shape\n",
    "    D = np.zeros((n , n))\n",
    "    for i in range (n):\n",
    "        for j in range (i+1 , n):\n",
    "            D[i , j] = LA.norm(data[:,i] - data[:,j])**2\n",
    "            D[j , i] = D[i , j]\n",
    "    return D\n",
    "\n",
    "a = np.array(data)\n",
    "compute_ED_method1(a)"
   ]
  },
  {
   "cell_type": "markdown",
   "metadata": {},
   "source": [
    "# محاسبه فاصله مهلنوبیس"
   ]
  },
  {
   "cell_type": "code",
   "execution_count": 45,
   "metadata": {},
   "outputs": [
    {
     "data": {
      "text/html": [
       "<div>\n",
       "<style scoped>\n",
       "    .dataframe tbody tr th:only-of-type {\n",
       "        vertical-align: middle;\n",
       "    }\n",
       "\n",
       "    .dataframe tbody tr th {\n",
       "        vertical-align: top;\n",
       "    }\n",
       "\n",
       "    .dataframe thead th {\n",
       "        text-align: right;\n",
       "    }\n",
       "</style>\n",
       "<table border=\"1\" class=\"dataframe\">\n",
       "  <thead>\n",
       "    <tr style=\"text-align: right;\">\n",
       "      <th></th>\n",
       "      <th>F0</th>\n",
       "      <th>F1</th>\n",
       "      <th>F2</th>\n",
       "      <th>F3</th>\n",
       "      <th>F4</th>\n",
       "      <th>F5</th>\n",
       "      <th>F6</th>\n",
       "      <th>F7</th>\n",
       "      <th>F8</th>\n",
       "      <th>F9</th>\n",
       "      <th>F10</th>\n",
       "      <th>mahala</th>\n",
       "    </tr>\n",
       "  </thead>\n",
       "  <tbody>\n",
       "    <tr>\n",
       "      <th>0</th>\n",
       "      <td>7</td>\n",
       "      <td>5</td>\n",
       "      <td>86.2</td>\n",
       "      <td>26.2</td>\n",
       "      <td>94.3</td>\n",
       "      <td>5.1</td>\n",
       "      <td>8.2</td>\n",
       "      <td>51</td>\n",
       "      <td>6.7</td>\n",
       "      <td>0.0</td>\n",
       "      <td>0.0</td>\n",
       "      <td>6.564163</td>\n",
       "    </tr>\n",
       "    <tr>\n",
       "      <th>1</th>\n",
       "      <td>7</td>\n",
       "      <td>4</td>\n",
       "      <td>90.6</td>\n",
       "      <td>35.4</td>\n",
       "      <td>669.1</td>\n",
       "      <td>6.7</td>\n",
       "      <td>18.0</td>\n",
       "      <td>33</td>\n",
       "      <td>0.9</td>\n",
       "      <td>0.0</td>\n",
       "      <td>0.0</td>\n",
       "      <td>9.475852</td>\n",
       "    </tr>\n",
       "    <tr>\n",
       "      <th>2</th>\n",
       "      <td>7</td>\n",
       "      <td>4</td>\n",
       "      <td>90.6</td>\n",
       "      <td>43.7</td>\n",
       "      <td>686.9</td>\n",
       "      <td>6.7</td>\n",
       "      <td>14.6</td>\n",
       "      <td>33</td>\n",
       "      <td>1.3</td>\n",
       "      <td>0.0</td>\n",
       "      <td>0.0</td>\n",
       "      <td>10.756977</td>\n",
       "    </tr>\n",
       "    <tr>\n",
       "      <th>3</th>\n",
       "      <td>8</td>\n",
       "      <td>6</td>\n",
       "      <td>91.7</td>\n",
       "      <td>33.3</td>\n",
       "      <td>77.5</td>\n",
       "      <td>9.0</td>\n",
       "      <td>8.3</td>\n",
       "      <td>97</td>\n",
       "      <td>4.0</td>\n",
       "      <td>0.2</td>\n",
       "      <td>0.0</td>\n",
       "      <td>20.717109</td>\n",
       "    </tr>\n",
       "    <tr>\n",
       "      <th>4</th>\n",
       "      <td>8</td>\n",
       "      <td>6</td>\n",
       "      <td>89.3</td>\n",
       "      <td>51.3</td>\n",
       "      <td>102.2</td>\n",
       "      <td>9.6</td>\n",
       "      <td>11.4</td>\n",
       "      <td>99</td>\n",
       "      <td>1.8</td>\n",
       "      <td>0.0</td>\n",
       "      <td>0.0</td>\n",
       "      <td>23.840563</td>\n",
       "    </tr>\n",
       "  </tbody>\n",
       "</table>\n",
       "</div>"
      ],
      "text/plain": [
       "   F0  F1    F2    F3     F4   F5    F6  F7   F8   F9  F10     mahala\n",
       "0   7   5  86.2  26.2   94.3  5.1   8.2  51  6.7  0.0  0.0   6.564163\n",
       "1   7   4  90.6  35.4  669.1  6.7  18.0  33  0.9  0.0  0.0   9.475852\n",
       "2   7   4  90.6  43.7  686.9  6.7  14.6  33  1.3  0.0  0.0  10.756977\n",
       "3   8   6  91.7  33.3   77.5  9.0   8.3  97  4.0  0.2  0.0  20.717109\n",
       "4   8   6  89.3  51.3  102.2  9.6  11.4  99  1.8  0.0  0.0  23.840563"
      ]
     },
     "execution_count": 45,
     "metadata": {},
     "output_type": "execute_result"
    }
   ],
   "source": [
    "from numpy import linalg as LA\n",
    "import pandas as pd\n",
    "import math\n",
    "data = pd.read_excel('./dataset2.xls', header=None ,names=['F0','F1','F2','F3','F4','F5','F6','F7','F8','F9','F10'])\n",
    "data\n",
    "# Function to find mean. \n",
    "def mean(arr, n): \n",
    "\n",
    "    sum = 0\n",
    "    for i in range(0, n): \n",
    "        sum = sum + arr[i] \n",
    "        return sum / n \n",
    "\n",
    "# Function to find covariance. \n",
    "def covariance(arr1, arr2, n): \n",
    "\n",
    "\tsum = 0\n",
    "\tfor i in range(0, n): \n",
    "\t\tsum = (sum + (arr1[i] - mean(arr1, n)) *(arr2[i] - mean(arr2, n))) \n",
    "\treturn sum / (n - 1) \n",
    "\n",
    "def mahalanobis(x=None, data=None, cov=None):\n",
    "    \"\"\"Compute the Mahalanobis Distance between each row of x and the data  \n",
    "    x    : vector or matrix of data with, say, p columns.\n",
    "    data : ndarray of the distribution from which Mahalanobis distance of each observation of x is to be computed.\n",
    "    cov  : covariance matrix (p x p) of the distribution. If None, will be computed from data.\n",
    "    \"\"\"\n",
    "    x_minus_mu = x - np.mean(data)\n",
    "    if not cov:\n",
    "        cov = np.cov(data.values.T)\n",
    "        inv_covmat = LA.inv(cov)\n",
    "        left_term = np.dot(x_minus_mu, inv_covmat)\n",
    "        mahal = np.dot(left_term, x_minus_mu.T)\n",
    "    return mahal.diagonal()\n",
    "\n",
    "data_x = data[['F0','F1','F2','F3','F4','F5','F6','F7','F8','F9','F10']].head(50)\n",
    "data_x['mahala'] = mahalanobis(x=data_x, data=data[['F0','F1','F2','F3','F4','F5','F6','F7','F8','F9','F10']])\n",
    "data_x.head()"
   ]
  },
  {
   "cell_type": "markdown",
   "metadata": {},
   "source": [
    "# محاسبه ضریب همبستگی"
   ]
  },
  {
   "cell_type": "code",
   "execution_count": 53,
   "metadata": {},
   "outputs": [
    {
     "name": "stdout",
     "output_type": "stream",
     "text": [
      "Enter the first target col(0,11):2\n",
      "Enter the second target col(0,11):4\n",
      "0.330512\n"
     ]
    }
   ],
   "source": [
    "# Python Program to find correlation coefficient. \n",
    "import math \n",
    "data = pd.read_excel('./dataset2.xls', header=None )\n",
    "# function that returns correlation coefficient. \n",
    "def correlationCoefficient(X, Y, n) : \n",
    "\tsum_X = 0\n",
    "\tsum_Y = 0\n",
    "\tsum_XY = 0\n",
    "\tsquareSum_X = 0\n",
    "\tsquareSum_Y = 0\n",
    "\t\n",
    "\t\n",
    "\ti = 0\n",
    "\twhile i < n : \n",
    "\t\t# sum of elements of array X. \n",
    "\t\tsum_X = sum_X + X[i] \n",
    "\t\t\n",
    "\t\t# sum of elements of array Y. \n",
    "\t\tsum_Y = sum_Y + Y[i] \n",
    "\t\t\n",
    "\t\t# sum of X[i] * Y[i]. \n",
    "\t\tsum_XY = sum_XY + X[i] * Y[i] \n",
    "\t\t\n",
    "\t\t# sum of square of array elements. \n",
    "\t\tsquareSum_X = squareSum_X + X[i] * X[i] \n",
    "\t\tsquareSum_Y = squareSum_Y + Y[i] * Y[i] \n",
    "\t\t\n",
    "\t\ti = i + 1\n",
    "\t\n",
    "\t# use formula for calculating correlation \n",
    "\t# coefficient.\n",
    "\tsoorat = (float)(n * sum_XY - sum_X * sum_Y)\n",
    "\tmakhraj = (float)(math.sqrt((n * squareSum_X - sum_X * sum_X)* (n * squareSum_Y - sum_Y * sum_Y)))\n",
    "\t\n",
    "\tcorr = soorat / makhraj\n",
    "\treturn corr \n",
    "\t\n",
    "# Driver function \n",
    "x = int(input(\"Enter the first target col(0,11):\"))\n",
    "y = int(input(\"Enter the second target col(0,11):\"))\n",
    "\n",
    "X = data[x]\n",
    "Y = data[y]\n",
    "\n",
    "# Find the size of array. \n",
    "n = len(X) \n",
    "\n",
    "# Function call to correlationCoefficient. \n",
    "print ('{0:.6f}'.format(correlationCoefficient(X, Y, n))) "
   ]
  },
  {
   "cell_type": "markdown",
   "metadata": {},
   "source": [
    "# محاسبه انتروپی"
   ]
  },
  {
   "cell_type": "markdown",
   "metadata": {},
   "source": [
    "با وارد کردن ستون دلخواه (از بین اعداد 0 تا 11) انتروپی برای داده های آن ستون محاسبه میگردد"
   ]
  },
  {
   "cell_type": "code",
   "execution_count": 58,
   "metadata": {},
   "outputs": [
    {
     "name": "stdout",
     "output_type": "stream",
     "text": [
      "please enter the target col (0,11) to calcualte entropy:8\n"
     ]
    },
    {
     "data": {
      "text/plain": [
       "3.923896789317464"
      ]
     },
     "execution_count": 58,
     "metadata": {},
     "output_type": "execute_result"
    }
   ],
   "source": [
    "import numpy as np\n",
    "import pandas as pd\n",
    "from scipy import linalg\n",
    "\n",
    "data = pd.read_excel('./dataset2.xls', header=None )\n",
    "\n",
    "def entropy(target_col):\n",
    "    \"\"\"\n",
    "    Calculate the entropy of a dataset.\n",
    "    The only parameter of this function is the target_col parameter which specifies the target column\n",
    "    \"\"\"\n",
    "    #removing repeated data using unique python method \n",
    "    #to return a tuple containing the list of unique values in arr and a list of their corresponding frequencies.\n",
    "    elements,counts = np.unique(target_col,return_counts = True)\n",
    "    entropy = np.sum([(-counts[i]/np.sum(counts))*np.log2(counts[i]/np.sum(counts)) for i in range(len(elements))])\n",
    "    return entropy\n",
    "\n",
    "\n",
    "\n",
    "x = int(input(\"please enter the target col (0,11) to calcualte entropy:\"))\n",
    "entropy(data[x])"
   ]
  },
  {
   "cell_type": "code",
   "execution_count": null,
   "metadata": {},
   "outputs": [],
   "source": []
  }
 ],
 "metadata": {
  "kernelspec": {
   "display_name": "Python 3",
   "language": "python",
   "name": "python3"
  },
  "language_info": {
   "codemirror_mode": {
    "name": "ipython",
    "version": 3
   },
   "file_extension": ".py",
   "mimetype": "text/x-python",
   "name": "python",
   "nbconvert_exporter": "python",
   "pygments_lexer": "ipython3",
   "version": "3.7.6"
  }
 },
 "nbformat": 4,
 "nbformat_minor": 4
}
